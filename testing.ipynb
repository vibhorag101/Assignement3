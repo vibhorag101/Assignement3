{
 "metadata": {
  "language_info": {
   "codemirror_mode": {
    "name": "ipython",
    "version": 3
   },
   "file_extension": ".py",
   "mimetype": "text/x-python",
   "name": "python",
   "nbconvert_exporter": "python",
   "pygments_lexer": "ipython3",
   "version": "3.8.5-final"
  },
  "orig_nbformat": 2,
  "kernelspec": {
   "name": "python385jvsc74a57bd06791e2e7efcd5eb49102edbccd413a0aa962a28d0f806800397089ab15c91092",
   "display_name": "Python 3.8.5 64-bit (conda)"
  }
 },
 "nbformat": 4,
 "nbformat_minor": 2,
 "cells": [
  {
   "cell_type": "code",
   "execution_count": 20,
   "metadata": {},
   "outputs": [
    {
     "output_type": "stream",
     "name": "stdout",
     "text": [
      "1\n"
     ]
    }
   ],
   "source": [
    "class student:\n",
    "    def hello(self):\n",
    "        self.x=1\n",
    "    def hi(self):\n",
    "        print(self.x)\n",
    "\n",
    "s=student()\n",
    "s.hello()\n",
    "s.hi()"
   ]
  }
 ]
}